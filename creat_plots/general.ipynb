{
 "cells": [
  {
   "cell_type": "code",
   "execution_count": 1,
   "metadata": {},
   "outputs": [
    {
     "name": "stdout",
     "output_type": "stream",
     "text": [
      "T-statistic: 86.1537\n",
      "P-value: 0.0000\n",
      "Effect size (Cohen's d): 70.3442\n",
      "Power of the test: 1.0000\n",
      "We reject the null hypothesis. There is a statistically significant difference between the two groups.\n"
     ]
    }
   ],
   "source": [
    "import numpy as np\n",
    "from scipy import stats\n",
    "from statsmodels.stats.power import TTestIndPower\n",
    "\n",
    "# Example data for two groups\n",
    "group1 = np.random.normal(1, 0.01, 3)\n",
    "group2 = np.random.normal(0, 0.01, 3)\n",
    "\n",
    "# group1 = [0]*3\n",
    "# group2 = [1]*3\n",
    "t_statistic, p_value = stats.ttest_ind(group1, group2)\n",
    "\n",
    "# Calculate effect size (Cohen's d)\n",
    "mean1 = np.mean(group1)\n",
    "mean2 = np.mean(group2)\n",
    "std1 = np.std(group1, ddof=1)\n",
    "std2 = np.std(group2, ddof=1)\n",
    "\n",
    "pooled_std = np.sqrt(((len(group1) - 1) * std1**2 + (len(group2) - 1) * std2**2) / (len(group1) + len(group2) - 2))\n",
    "effect_size = (mean1 - mean2) / pooled_std\n",
    "\n",
    "# Calculate the power of the test\n",
    "alpha = 0.05\n",
    "power_analysis = TTestIndPower()\n",
    "power = power_analysis.solve_power(effect_size=effect_size, nobs1=len(group1), alpha=alpha, ratio=len(group2)/len(group1), alternative='two-sided')\n",
    "\n",
    "# Display the results\n",
    "print(f\"T-statistic: {t_statistic:.4f}\")\n",
    "print(f\"P-value: {p_value:.4f}\")\n",
    "print(f\"Effect size (Cohen's d): {effect_size:.4f}\")\n",
    "print(f\"Power of the test: {power:.4f}\")\n",
    "\n",
    "# Interpretation\n",
    "if p_value < alpha:\n",
    "    print(\"We reject the null hypothesis. There is a statistically significant difference between the two groups.\")\n",
    "else:\n",
    "    print(\"We fail to reject the null hypothesis. There is no statistically significant difference between the two groups.\")\n"
   ]
  },
  {
   "cell_type": "markdown",
   "metadata": {},
   "source": [
    "# N size"
   ]
  },
  {
   "cell_type": "code",
   "execution_count": 5,
   "metadata": {},
   "outputs": [
    {
     "data": {
      "text/plain": [
       "644"
      ]
     },
     "execution_count": 5,
     "metadata": {},
     "output_type": "execute_result"
    }
   ],
   "source": [
    "import scipy.stats as stats\n",
    "import math\n",
    "\n",
    "def calculate_sample_size_z_test(p_A, p_B, alpha, beta):\n",
    "    # Calculate the standard normal quantiles for the significance level and power\n",
    "    z_alpha = stats.norm.ppf(1 - alpha / 2)  # Two-tailed test\n",
    "    z_beta = stats.norm.ppf(1 - beta)\n",
    "    \n",
    "    # Calculate the pooled proportion\n",
    "    p_pool = (p_A + p_B) / 2\n",
    "    \n",
    "    # Calculate the standard deviation under the null hypothesis\n",
    "    stddev = math.sqrt(2 * p_pool * (1 - p_pool))\n",
    "    \n",
    "    # Calculate the effect size (the difference between proportions)\n",
    "    effect_size = abs(p_B - p_A)\n",
    "    # effect_size = 0.05\n",
    "    # Calculate the required sample size per group\n",
    "    n = ((z_alpha + z_beta) ** 2) * stddev**2 / effect_size**2\n",
    "    \n",
    "    return math.ceil(n)\n",
    "\n",
    " \n",
    "# Parameters\n",
    "p_A = 0.5  # Probability of success in group A\n",
    "p_B = 0.4  # Probability of success in group B (effect size)\n",
    "alpha = 0.05  # Significance level (Type I error rate)\n",
    "beta = 0.05  # Type II error rate (1 - power)\n",
    "calculate_sample_size_z_test(p_A, p_B, alpha, beta)"
   ]
  },
  {
   "cell_type": "markdown",
   "metadata": {},
   "source": []
  }
 ],
 "metadata": {
  "kernelspec": {
   "display_name": "Python 3",
   "language": "python",
   "name": "python3"
  },
  "language_info": {
   "codemirror_mode": {
    "name": "ipython",
    "version": 3
   },
   "file_extension": ".py",
   "mimetype": "text/x-python",
   "name": "python",
   "nbconvert_exporter": "python",
   "pygments_lexer": "ipython3",
   "version": "3.10.12"
  }
 },
 "nbformat": 4,
 "nbformat_minor": 2
}
